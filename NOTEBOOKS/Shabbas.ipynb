{
 "cells": [
  {
   "cell_type": "markdown",
   "metadata": {},
   "source": [
    "# Shomer Shabbas!"
   ]
  },
  {
   "cell_type": "code",
   "execution_count": null,
   "metadata": {},
   "outputs": [],
   "source": [
    "import pickle\n",
    "\n",
    "modelos = pickle.load(open('modelosSunday.pk', 'rb'))\n",
    "#modelos = {'kmeans': (kmeans_model, labels, clusters),\n",
    "#            'pca': (pca, datapoint), 'd2v': d2v_model, 'all': all_content}\n",
    "\n",
    "kmeans_model, labels, clusters, centroides = modelos['kmeans']\n",
    "pca, datapoint = modelos['pca']\n",
    "d2v_model = modelos['d2v']\n",
    "all_content = modelos['all']\n",
    "files = modelos['files']"
   ]
  },
  {
   "cell_type": "code",
   "execution_count": null,
   "metadata": {},
   "outputs": [],
   "source": []
  }
 ],
 "metadata": {
  "kernelspec": {
   "display_name": "Python 3",
   "language": "python",
   "name": "python3"
  },
  "language_info": {
   "codemirror_mode": {
    "name": "ipython",
    "version": 3
   },
   "file_extension": ".py",
   "mimetype": "text/x-python",
   "name": "python",
   "nbconvert_exporter": "python",
   "pygments_lexer": "ipython3",
   "version": "3.8.5"
  }
 },
 "nbformat": 4,
 "nbformat_minor": 4
}
