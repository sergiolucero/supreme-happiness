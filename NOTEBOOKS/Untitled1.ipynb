{
 "cells": [
  {
   "cell_type": "code",
   "execution_count": null,
   "metadata": {},
   "outputs": [],
   "source": [
    "import sqlite3, pandas as pd\n",
    "conn = sqlite3.connect('programas.db')\n",
    "\n",
    "sql = lambda q: pd.read_sql(q, conn)\n",
    "pd.set_option('max_colwidth', None)\n",
    "\n",
    "#cdf = sql('SELECT * FROM sqlite_master')\n",
    "words = 'agua, '\n",
    "xdf = sql('SELECT c.candidato, p.distrito, lista, partido, {words} FROM candidatos AS c, palabras AS p')\n",
    "xdf.columns"
   ]
  },
  {
   "cell_type": "code",
   "execution_count": null,
   "metadata": {},
   "outputs": [],
   "source": []
  }
 ],
 "metadata": {
  "kernelspec": {
   "display_name": "Python 3",
   "language": "python",
   "name": "python3"
  },
  "language_info": {
   "codemirror_mode": {
    "name": "ipython",
    "version": 3
   },
   "file_extension": ".py",
   "mimetype": "text/x-python",
   "name": "python",
   "nbconvert_exporter": "python",
   "pygments_lexer": "ipython3",
   "version": "3.8.5"
  }
 },
 "nbformat": 4,
 "nbformat_minor": 4
}
