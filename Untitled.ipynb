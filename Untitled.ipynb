{
 "cells": [
  {
   "cell_type": "markdown",
   "metadata": {},
   "source": [
    "##Ja! Riplotter"
   ]
  },
  {
   "cell_type": "code",
   "execution_count": 1,
   "metadata": {},
   "outputs": [
    {
     "data": {
      "text/html": [
       "<div>\n",
       "<style scoped>\n",
       "    .dataframe tbody tr th:only-of-type {\n",
       "        vertical-align: middle;\n",
       "    }\n",
       "\n",
       "    .dataframe tbody tr th {\n",
       "        vertical-align: top;\n",
       "    }\n",
       "\n",
       "    .dataframe thead th {\n",
       "        text-align: right;\n",
       "    }\n",
       "</style>\n",
       "<table border=\"1\" class=\"dataframe\">\n",
       "  <thead>\n",
       "    <tr style=\"text-align: right;\">\n",
       "      <th></th>\n",
       "      <th>Tema</th>\n",
       "      <th>nMenciones</th>\n",
       "      <th>Mencionan</th>\n",
       "      <th>link</th>\n",
       "    </tr>\n",
       "  </thead>\n",
       "  <tbody>\n",
       "    <tr>\n",
       "      <th>0</th>\n",
       "      <td>agua</td>\n",
       "      <td>2699</td>\n",
       "      <td>0.57</td>\n",
       "      <td>http://greenpeace.quant.cl:8081/ver_menciones/...</td>\n",
       "    </tr>\n",
       "    <tr>\n",
       "      <th>1</th>\n",
       "      <td>emergencia climática</td>\n",
       "      <td>5</td>\n",
       "      <td>0.00</td>\n",
       "      <td>http://greenpeace.quant.cl:8081/ver_menciones/...</td>\n",
       "    </tr>\n",
       "    <tr>\n",
       "      <th>2</th>\n",
       "      <td>crisis climática</td>\n",
       "      <td>327</td>\n",
       "      <td>0.14</td>\n",
       "      <td>http://greenpeace.quant.cl:8081/ver_menciones/...</td>\n",
       "    </tr>\n",
       "    <tr>\n",
       "      <th>3</th>\n",
       "      <td>cambio climático</td>\n",
       "      <td>532</td>\n",
       "      <td>0.29</td>\n",
       "      <td>http://greenpeace.quant.cl:8081/ver_menciones/...</td>\n",
       "    </tr>\n",
       "    <tr>\n",
       "      <th>4</th>\n",
       "      <td>medioambiente</td>\n",
       "      <td>760</td>\n",
       "      <td>0.28</td>\n",
       "      <td>http://greenpeace.quant.cl:8081/ver_menciones/...</td>\n",
       "    </tr>\n",
       "    <tr>\n",
       "      <th>5</th>\n",
       "      <td>medio ambiente</td>\n",
       "      <td>2223</td>\n",
       "      <td>0.56</td>\n",
       "      <td>http://greenpeace.quant.cl:8081/ver_menciones/...</td>\n",
       "    </tr>\n",
       "  </tbody>\n",
       "</table>\n",
       "</div>"
      ],
      "text/plain": [
       "                   Tema  nMenciones  Mencionan  \\\n",
       "0                  agua        2699       0.57   \n",
       "1  emergencia climática           5       0.00   \n",
       "2      crisis climática         327       0.14   \n",
       "3      cambio climático         532       0.29   \n",
       "4         medioambiente         760       0.28   \n",
       "5        medio ambiente        2223       0.56   \n",
       "\n",
       "                                                link  \n",
       "0  http://greenpeace.quant.cl:8081/ver_menciones/...  \n",
       "1  http://greenpeace.quant.cl:8081/ver_menciones/...  \n",
       "2  http://greenpeace.quant.cl:8081/ver_menciones/...  \n",
       "3  http://greenpeace.quant.cl:8081/ver_menciones/...  \n",
       "4  http://greenpeace.quant.cl:8081/ver_menciones/...  \n",
       "5  http://greenpeace.quant.cl:8081/ver_menciones/...  "
      ]
     },
     "execution_count": 1,
     "metadata": {},
     "output_type": "execute_result"
    }
   ],
   "source": [
    "from util import *\n",
    "import seaborn as sns\n",
    "\n",
    "mdf = sql('SELECT * FROM menciones')\n",
    "mdf"
   ]
  },
  {
   "cell_type": "code",
   "execution_count": 3,
   "metadata": {},
   "outputs": [
    {
     "data": {
      "text/html": [
       "<div>\n",
       "<style scoped>\n",
       "    .dataframe tbody tr th:only-of-type {\n",
       "        vertical-align: middle;\n",
       "    }\n",
       "\n",
       "    .dataframe tbody tr th {\n",
       "        vertical-align: top;\n",
       "    }\n",
       "\n",
       "    .dataframe thead th {\n",
       "        text-align: right;\n",
       "    }\n",
       "</style>\n",
       "<table border=\"1\" class=\"dataframe\">\n",
       "  <thead>\n",
       "    <tr style=\"text-align: right;\">\n",
       "      <th></th>\n",
       "      <th>Tema</th>\n",
       "      <th>nMenciones</th>\n",
       "      <th>Mencionan</th>\n",
       "      <th>link</th>\n",
       "    </tr>\n",
       "  </thead>\n",
       "  <tbody>\n",
       "    <tr>\n",
       "      <th>0</th>\n",
       "      <td>agua</td>\n",
       "      <td>2699</td>\n",
       "      <td>0.57</td>\n",
       "      <td>http://greenpeace.quant.cl:8081/ver_menciones/...</td>\n",
       "    </tr>\n",
       "    <tr>\n",
       "      <th>1</th>\n",
       "      <td>clima</td>\n",
       "      <td>5</td>\n",
       "      <td>0.00</td>\n",
       "      <td>http://greenpeace.quant.cl:8081/ver_menciones/...</td>\n",
       "    </tr>\n",
       "    <tr>\n",
       "      <th>2</th>\n",
       "      <td>clima</td>\n",
       "      <td>327</td>\n",
       "      <td>0.14</td>\n",
       "      <td>http://greenpeace.quant.cl:8081/ver_menciones/...</td>\n",
       "    </tr>\n",
       "    <tr>\n",
       "      <th>3</th>\n",
       "      <td>clima</td>\n",
       "      <td>532</td>\n",
       "      <td>0.29</td>\n",
       "      <td>http://greenpeace.quant.cl:8081/ver_menciones/...</td>\n",
       "    </tr>\n",
       "    <tr>\n",
       "      <th>4</th>\n",
       "      <td>medioambiente</td>\n",
       "      <td>760</td>\n",
       "      <td>0.28</td>\n",
       "      <td>http://greenpeace.quant.cl:8081/ver_menciones/...</td>\n",
       "    </tr>\n",
       "    <tr>\n",
       "      <th>5</th>\n",
       "      <td>medioambiente</td>\n",
       "      <td>2223</td>\n",
       "      <td>0.56</td>\n",
       "      <td>http://greenpeace.quant.cl:8081/ver_menciones/...</td>\n",
       "    </tr>\n",
       "  </tbody>\n",
       "</table>\n",
       "</div>"
      ],
      "text/plain": [
       "            Tema  nMenciones  Mencionan  \\\n",
       "0           agua        2699       0.57   \n",
       "1          clima           5       0.00   \n",
       "2          clima         327       0.14   \n",
       "3          clima         532       0.29   \n",
       "4  medioambiente         760       0.28   \n",
       "5  medioambiente        2223       0.56   \n",
       "\n",
       "                                                link  \n",
       "0  http://greenpeace.quant.cl:8081/ver_menciones/...  \n",
       "1  http://greenpeace.quant.cl:8081/ver_menciones/...  \n",
       "2  http://greenpeace.quant.cl:8081/ver_menciones/...  \n",
       "3  http://greenpeace.quant.cl:8081/ver_menciones/...  \n",
       "4  http://greenpeace.quant.cl:8081/ver_menciones/...  \n",
       "5  http://greenpeace.quant.cl:8081/ver_menciones/...  "
      ]
     },
     "execution_count": 3,
     "metadata": {},
     "output_type": "execute_result"
    }
   ],
   "source": [
    "mdf['Tema'] = mdf.Tema.apply(lambda t: 'clima' if 'clim' in t else 'medioambiente' if 'medio' in t else t)\n",
    "mdf"
   ]
  },
  {
   "cell_type": "code",
   "execution_count": 6,
   "metadata": {},
   "outputs": [
    {
     "data": {
      "text/html": [
       "<div>\n",
       "<style scoped>\n",
       "    .dataframe tbody tr th:only-of-type {\n",
       "        vertical-align: middle;\n",
       "    }\n",
       "\n",
       "    .dataframe tbody tr th {\n",
       "        vertical-align: top;\n",
       "    }\n",
       "\n",
       "    .dataframe thead th {\n",
       "        text-align: right;\n",
       "    }\n",
       "</style>\n",
       "<table border=\"1\" class=\"dataframe\">\n",
       "  <thead>\n",
       "    <tr style=\"text-align: right;\">\n",
       "      <th></th>\n",
       "      <th>Tema</th>\n",
       "      <th>nMenciones</th>\n",
       "      <th>Mencionan</th>\n",
       "    </tr>\n",
       "  </thead>\n",
       "  <tbody>\n",
       "    <tr>\n",
       "      <th>0</th>\n",
       "      <td>agua</td>\n",
       "      <td>2699</td>\n",
       "      <td>0.57</td>\n",
       "    </tr>\n",
       "    <tr>\n",
       "      <th>1</th>\n",
       "      <td>clima</td>\n",
       "      <td>864</td>\n",
       "      <td>0.43</td>\n",
       "    </tr>\n",
       "    <tr>\n",
       "      <th>2</th>\n",
       "      <td>medioambiente</td>\n",
       "      <td>2983</td>\n",
       "      <td>0.84</td>\n",
       "    </tr>\n",
       "  </tbody>\n",
       "</table>\n",
       "</div>"
      ],
      "text/plain": [
       "            Tema  nMenciones  Mencionan\n",
       "0           agua        2699       0.57\n",
       "1          clima         864       0.43\n",
       "2  medioambiente        2983       0.84"
      ]
     },
     "execution_count": 6,
     "metadata": {},
     "output_type": "execute_result"
    }
   ],
   "source": [
    "#mdf=mdf.groupby('Tema').sum()\n",
    "mdf=mdf.reset_index()\n",
    "mdf"
   ]
  },
  {
   "cell_type": "code",
   "execution_count": 32,
   "metadata": {},
   "outputs": [
    {
     "data": {
      "image/png": "[encoded data removed]",
      "text/plain": [
       "<Figure size 864x576 with 1 Axes>"
      ]
     },
     "metadata": {},
     "output_type": "display_data"
    }
   ],
   "source": [
    "import matplotlib.pyplot as plt\n",
    "mdf = mdf.sort_values('nMenciones')\n",
    "fig, ax = plt.subplots(1, figsize=(12,8))\n",
    "sns.barplot(data=mdf, y='Tema', x='nMenciones', palette='Greens')\n",
    "sns.set(rc={'axes.facecolor':'cornflowerblue', 'figure.facecolor':'cornflowerblue'})\n",
    "\n",
    "for ix,row in mdf.iterrows(): ## add wedges\n",
    "    #circle = plt.Circle((row['nMenciones']/2, ix), row['Mencionan'], color='r')  # clima, agua, mediombiente\n",
    "    #ax.add_patch(circle)\n",
    "    mrow = mdf[mdf.nMenciones==row['nMenciones']]\n",
    "    plt.text(row['nMenciones']/2, ix, round(100*mrow.iloc[0]['Mencionan'],1), color='w', size=24, weight='bold')"
   ]
  },
  {
   "cell_type": "code",
   "execution_count": 28,
   "metadata": {},
   "outputs": [
    {
     "data": {
      "text/html": [
       "<div>\n",
       "<style scoped>\n",
       "    .dataframe tbody tr th:only-of-type {\n",
       "        vertical-align: middle;\n",
       "    }\n",
       "\n",
       "    .dataframe tbody tr th {\n",
       "        vertical-align: top;\n",
       "    }\n",
       "\n",
       "    .dataframe thead th {\n",
       "        text-align: right;\n",
       "    }\n",
       "</style>\n",
       "<table border=\"1\" class=\"dataframe\">\n",
       "  <thead>\n",
       "    <tr style=\"text-align: right;\">\n",
       "      <th></th>\n",
       "      <th>Tema</th>\n",
       "      <th>nMenciones</th>\n",
       "      <th>Mencionan</th>\n",
       "    </tr>\n",
       "  </thead>\n",
       "  <tbody>\n",
       "    <tr>\n",
       "      <th>1</th>\n",
       "      <td>clima</td>\n",
       "      <td>864</td>\n",
       "      <td>0.43</td>\n",
       "    </tr>\n",
       "    <tr>\n",
       "      <th>0</th>\n",
       "      <td>agua</td>\n",
       "      <td>2699</td>\n",
       "      <td>0.57</td>\n",
       "    </tr>\n",
       "    <tr>\n",
       "      <th>2</th>\n",
       "      <td>medioambiente</td>\n",
       "      <td>2983</td>\n",
       "      <td>0.84</td>\n",
       "    </tr>\n",
       "  </tbody>\n",
       "</table>\n",
       "</div>"
      ],
      "text/plain": [
       "            Tema  nMenciones  Mencionan\n",
       "1          clima         864       0.43\n",
       "0           agua        2699       0.57\n",
       "2  medioambiente        2983       0.84"
      ]
     },
     "execution_count": 28,
     "metadata": {},
     "output_type": "execute_result"
    }
   ],
   "source": [
    "mdf"
   ]
  },
  {
   "cell_type": "code",
   "execution_count": null,
   "metadata": {},
   "outputs": [],
   "source": []
  }
 ],
 "metadata": {
  "kernelspec": {
   "display_name": "Python 3",
   "language": "python",
   "name": "python3"
  },
  "language_info": {
   "codemirror_mode": {
    "name": "ipython",
    "version": 3
   },
   "file_extension": ".py",
   "mimetype": "text/x-python",
   "name": "python",
   "nbconvert_exporter": "python",
   "pygments_lexer": "ipython3",
   "version": "3.7.4"
  }
 },
 "nbformat": 4,
 "nbformat_minor": 4
}
